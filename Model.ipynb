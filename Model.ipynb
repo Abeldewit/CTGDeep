{
 "cells": [
  {
   "cell_type": "code",
   "execution_count": 1,
   "metadata": {},
   "outputs": [
    {
     "name": "stderr",
     "output_type": "stream",
     "text": [
      "Using TensorFlow backend.\n"
     ]
    }
   ],
   "source": [
    "# Imports\n",
    "from sklearn.metrics import accuracy_score, precision_score, recall_score, f1_score\n",
    "from sklearn.model_selection import train_test_split\n",
    "from sklearn.preprocessing import MinMaxScaler\n",
    "from keras.callbacks import TensorBoard, EarlyStopping\n",
    "from tensorflow import keras\n",
    "import tensorflow as tf\n",
    "from scipy import stats\n",
    "import pandas as pd\n",
    "import datetime, os\n",
    "import numpy as np"
   ]
  },
  {
   "cell_type": "code",
   "execution_count": 2,
   "metadata": {},
   "outputs": [
    {
     "name": "stdout",
     "output_type": "stream",
     "text": [
      "File name: \n",
      "Class_23_attributes\n"
     ]
    },
    {
     "data": {
      "text/html": [
       "<div>\n",
       "<style scoped>\n",
       "    .dataframe tbody tr th:only-of-type {\n",
       "        vertical-align: middle;\n",
       "    }\n",
       "\n",
       "    .dataframe tbody tr th {\n",
       "        vertical-align: top;\n",
       "    }\n",
       "\n",
       "    .dataframe thead th {\n",
       "        text-align: right;\n",
       "    }\n",
       "</style>\n",
       "<table border=\"1\" class=\"dataframe\">\n",
       "  <thead>\n",
       "    <tr style=\"text-align: right;\">\n",
       "      <th></th>\n",
       "      <th>LB</th>\n",
       "      <th>AC.1</th>\n",
       "      <th>FM.1</th>\n",
       "      <th>UC.1</th>\n",
       "      <th>DL.1</th>\n",
       "      <th>DS.1</th>\n",
       "      <th>DP.1</th>\n",
       "      <th>ASTV</th>\n",
       "      <th>MSTV</th>\n",
       "      <th>ALTV</th>\n",
       "      <th>...</th>\n",
       "      <th>Min</th>\n",
       "      <th>Max</th>\n",
       "      <th>Nmax</th>\n",
       "      <th>Nzeros</th>\n",
       "      <th>Mode</th>\n",
       "      <th>Mean</th>\n",
       "      <th>Median</th>\n",
       "      <th>Variance</th>\n",
       "      <th>Tendency</th>\n",
       "      <th>CLASS</th>\n",
       "    </tr>\n",
       "  </thead>\n",
       "  <tbody>\n",
       "    <tr>\n",
       "      <td>0</td>\n",
       "      <td>0.259259</td>\n",
       "      <td>0.000000</td>\n",
       "      <td>0.0</td>\n",
       "      <td>0.000000</td>\n",
       "      <td>0.0</td>\n",
       "      <td>0.0</td>\n",
       "      <td>0.0</td>\n",
       "      <td>0.813333</td>\n",
       "      <td>0.044118</td>\n",
       "      <td>0.472527</td>\n",
       "      <td>...</td>\n",
       "      <td>0.110092</td>\n",
       "      <td>0.034483</td>\n",
       "      <td>0.111111</td>\n",
       "      <td>0.0</td>\n",
       "      <td>0.472441</td>\n",
       "      <td>0.587156</td>\n",
       "      <td>0.403670</td>\n",
       "      <td>0.271375</td>\n",
       "      <td>1.0</td>\n",
       "      <td>9</td>\n",
       "    </tr>\n",
       "    <tr>\n",
       "      <td>1</td>\n",
       "      <td>0.481481</td>\n",
       "      <td>0.315789</td>\n",
       "      <td>0.0</td>\n",
       "      <td>0.400000</td>\n",
       "      <td>0.2</td>\n",
       "      <td>0.0</td>\n",
       "      <td>0.0</td>\n",
       "      <td>0.066667</td>\n",
       "      <td>0.279412</td>\n",
       "      <td>0.000000</td>\n",
       "      <td>...</td>\n",
       "      <td>0.165138</td>\n",
       "      <td>0.655172</td>\n",
       "      <td>0.333333</td>\n",
       "      <td>0.1</td>\n",
       "      <td>0.637795</td>\n",
       "      <td>0.577982</td>\n",
       "      <td>0.577982</td>\n",
       "      <td>0.044610</td>\n",
       "      <td>0.5</td>\n",
       "      <td>6</td>\n",
       "    </tr>\n",
       "    <tr>\n",
       "      <td>2</td>\n",
       "      <td>0.500000</td>\n",
       "      <td>0.157895</td>\n",
       "      <td>0.0</td>\n",
       "      <td>0.533333</td>\n",
       "      <td>0.2</td>\n",
       "      <td>0.0</td>\n",
       "      <td>0.0</td>\n",
       "      <td>0.053333</td>\n",
       "      <td>0.279412</td>\n",
       "      <td>0.000000</td>\n",
       "      <td>...</td>\n",
       "      <td>0.165138</td>\n",
       "      <td>0.655172</td>\n",
       "      <td>0.277778</td>\n",
       "      <td>0.1</td>\n",
       "      <td>0.637795</td>\n",
       "      <td>0.568807</td>\n",
       "      <td>0.559633</td>\n",
       "      <td>0.048327</td>\n",
       "      <td>0.5</td>\n",
       "      <td>6</td>\n",
       "    </tr>\n",
       "    <tr>\n",
       "      <td>3</td>\n",
       "      <td>0.518519</td>\n",
       "      <td>0.157895</td>\n",
       "      <td>0.0</td>\n",
       "      <td>0.533333</td>\n",
       "      <td>0.2</td>\n",
       "      <td>0.0</td>\n",
       "      <td>0.0</td>\n",
       "      <td>0.053333</td>\n",
       "      <td>0.323529</td>\n",
       "      <td>0.000000</td>\n",
       "      <td>...</td>\n",
       "      <td>0.027523</td>\n",
       "      <td>0.413793</td>\n",
       "      <td>0.611111</td>\n",
       "      <td>0.0</td>\n",
       "      <td>0.606299</td>\n",
       "      <td>0.559633</td>\n",
       "      <td>0.550459</td>\n",
       "      <td>0.048327</td>\n",
       "      <td>1.0</td>\n",
       "      <td>6</td>\n",
       "    </tr>\n",
       "    <tr>\n",
       "      <td>4</td>\n",
       "      <td>0.481481</td>\n",
       "      <td>0.368421</td>\n",
       "      <td>0.0</td>\n",
       "      <td>0.533333</td>\n",
       "      <td>0.0</td>\n",
       "      <td>0.0</td>\n",
       "      <td>0.0</td>\n",
       "      <td>0.053333</td>\n",
       "      <td>0.323529</td>\n",
       "      <td>0.000000</td>\n",
       "      <td>...</td>\n",
       "      <td>0.027523</td>\n",
       "      <td>0.413793</td>\n",
       "      <td>0.500000</td>\n",
       "      <td>0.0</td>\n",
       "      <td>0.606299</td>\n",
       "      <td>0.577982</td>\n",
       "      <td>0.559633</td>\n",
       "      <td>0.040892</td>\n",
       "      <td>1.0</td>\n",
       "      <td>2</td>\n",
       "    </tr>\n",
       "  </tbody>\n",
       "</table>\n",
       "<p>5 rows × 22 columns</p>\n",
       "</div>"
      ],
      "text/plain": [
       "         LB      AC.1  FM.1      UC.1  DL.1  DS.1  DP.1      ASTV      MSTV  \\\n",
       "0  0.259259  0.000000   0.0  0.000000   0.0   0.0   0.0  0.813333  0.044118   \n",
       "1  0.481481  0.315789   0.0  0.400000   0.2   0.0   0.0  0.066667  0.279412   \n",
       "2  0.500000  0.157895   0.0  0.533333   0.2   0.0   0.0  0.053333  0.279412   \n",
       "3  0.518519  0.157895   0.0  0.533333   0.2   0.0   0.0  0.053333  0.323529   \n",
       "4  0.481481  0.368421   0.0  0.533333   0.0   0.0   0.0  0.053333  0.323529   \n",
       "\n",
       "       ALTV  ...       Min       Max      Nmax  Nzeros      Mode      Mean  \\\n",
       "0  0.472527  ...  0.110092  0.034483  0.111111     0.0  0.472441  0.587156   \n",
       "1  0.000000  ...  0.165138  0.655172  0.333333     0.1  0.637795  0.577982   \n",
       "2  0.000000  ...  0.165138  0.655172  0.277778     0.1  0.637795  0.568807   \n",
       "3  0.000000  ...  0.027523  0.413793  0.611111     0.0  0.606299  0.559633   \n",
       "4  0.000000  ...  0.027523  0.413793  0.500000     0.0  0.606299  0.577982   \n",
       "\n",
       "     Median  Variance  Tendency  CLASS  \n",
       "0  0.403670  0.271375       1.0      9  \n",
       "1  0.577982  0.044610       0.5      6  \n",
       "2  0.559633  0.048327       0.5      6  \n",
       "3  0.550459  0.048327       1.0      6  \n",
       "4  0.559633  0.040892       1.0      2  \n",
       "\n",
       "[5 rows x 22 columns]"
      ]
     },
     "execution_count": 2,
     "metadata": {},
     "output_type": "execute_result"
    }
   ],
   "source": [
    "# Import the preprocessed file we made\n",
    "print(\"File name: \") \n",
    "file_name = input()\n",
    "\n",
    "dataFrame = pd.read_csv(r'data/p/' + file_name + '.csv')\n",
    "dataFrame.head()"
   ]
  },
  {
   "cell_type": "code",
   "execution_count": 3,
   "metadata": {},
   "outputs": [
    {
     "name": "stdout",
     "output_type": "stream",
     "text": [
      "We have 21 features\n"
     ]
    }
   ],
   "source": [
    "num_features = dataFrame.shape[1] - 1\n",
    "print(\"We have \" + str(num_features) + \" features\") "
   ]
  },
  {
   "cell_type": "code",
   "execution_count": 4,
   "metadata": {},
   "outputs": [
    {
     "name": "stdout",
     "output_type": "stream",
     "text": [
      "NSP\n"
     ]
    },
    {
     "data": {
      "text/plain": [
       "array([[0.        , 0.        , 0.        , ..., 0.40366972, 0.27137546,\n",
       "        1.        ],\n",
       "       [0.31578947, 0.        , 0.4       , ..., 0.57798165, 0.04460967,\n",
       "        0.5       ],\n",
       "       [0.15789474, 0.        , 0.53333333, ..., 0.55963303, 0.04832714,\n",
       "        0.5       ],\n",
       "       ...,\n",
       "       [0.05263158, 0.        , 0.46666667, ..., 0.68807339, 0.01486989,\n",
       "        1.        ],\n",
       "       [0.05263158, 0.        , 0.4       , ..., 0.67889908, 0.01486989,\n",
       "        1.        ],\n",
       "       [0.10526316, 0.004158  , 0.53333333, ..., 0.62385321, 0.00371747,\n",
       "        0.5       ]])"
      ]
     },
     "execution_count": 4,
     "metadata": {},
     "output_type": "execute_result"
    }
   ],
   "source": [
    "target_name = input()\n",
    "y = dataFrame.pop(target_name) - 1\n",
    "X = np.array(dataFrame)\n",
    "X"
   ]
  },
  {
   "cell_type": "code",
   "execution_count": 5,
   "metadata": {},
   "outputs": [],
   "source": [
    "from sklearn.preprocessing import LabelEncoder\n",
    "from sklearn.preprocessing import OneHotEncoder\n"
   ]
  },
  {
   "cell_type": "code",
   "execution_count": null,
   "metadata": {
    "scrolled": true
   },
   "outputs": [],
   "source": [
    "\n"
   ]
  },
  {
   "cell_type": "code",
   "execution_count": null,
   "metadata": {},
   "outputs": [],
   "source": []
  },
  {
   "cell_type": "markdown",
   "metadata": {},
   "source": [
    "This model will be used for the NSP classification"
   ]
  },
  {
   "cell_type": "code",
   "execution_count": 26,
   "metadata": {},
   "outputs": [],
   "source": [
    "X_train, X_test, y_train, y_test = train_test_split(X, y, test_size=0.1, shuffle=True)\n",
    "X_train, X_val, y_train, y_val = train_test_split(X_train, y_train, test_size=0.2, shuffle=True)\n",
    "\n",
    "# print(X.shape)\n",
    "# print(X_train.shape)\n",
    "# print(X_val.shape)\n",
    "# print(X_test.shape)\n",
    "\n",
    "# binary encode\n",
    "y_train = keras.utils.to_categorical(y_train)\n",
    "y_val = keras.utils.to_categorical(y_val)\n",
    "# print(y_train.shape)\n",
    "# y_train\n",
    "\n",
    "\n",
    "from keras.regularizers import l1,l2\n",
    "\n",
    "model = keras.Sequential([\n",
    "    keras.layers.Dense(20, input_dim=num_features, activation='relu'),\n",
    "    keras.layers.BatchNormalization(),\n",
    "    keras.layers.Dense(10, \n",
    "                       activation='relu', \n",
    "                       kernel_regularizer=l2(0.01)),\n",
    "    keras.layers.Dense(10, activation='relu', activity_regularizer=l1(0.01)),\n",
    "    keras.layers.Dense(5, activation='relu'),\n",
    "    keras.layers.Dropout(0.2),\n",
    "    keras.layers.Dense(3, activation='softmax')\n",
    "])\n",
    "\n",
    "\n",
    "opt = keras.optimizers.RMSprop(learning_rate=0.0005, rho=0.9)\n",
    "model.compile(loss='categorical_crossentropy', optimizer=opt, metrics=['accuracy'])\n",
    "\n",
    "\n",
    "# Tensorboard stuff\n",
    "log_dir = os.path.join(\n",
    "    \"logs\",\n",
    "    datetime.datetime.now().strftime(\"%Y%m%d-%H%M%S\")\n",
    "    )\n",
    "\n",
    "# Callbacks\n",
    "tensorboard_callback = TensorBoard(log_dir, histogram_freq=1)\n",
    "earlystop_callback = EarlyStopping( monitor='val_loss', \n",
    "                                    min_delta=0.0001,\n",
    "                                    mode='min',\n",
    "                                    patience=5\n",
    "                                  )\n",
    "\n",
    "# Clear any logs from previous runs\n",
    "#!rm -rf ./logs/ \n",
    "\n",
    "# Train the model\n",
    "history = model.fit(x=X_train,\n",
    "          y=y_train,\n",
    "          epochs=1000,\n",
    "          batch_size=50,\n",
    "          validation_data=(X_val, y_val),\n",
    "          callbacks=[tensorboard_callback,earlystop_callback],\n",
    "          verbose=0)"
   ]
  },
  {
   "cell_type": "code",
   "execution_count": 27,
   "metadata": {},
   "outputs": [
    {
     "name": "stdout",
     "output_type": "stream",
     "text": [
      "Model: \"sequential_9\"\n",
      "_________________________________________________________________\n",
      "Layer (type)                 Output Shape              Param #   \n",
      "=================================================================\n",
      "dense_45 (Dense)             (None, 20)                420       \n",
      "_________________________________________________________________\n",
      "batch_normalization_9 (Batch (None, 20)                80        \n",
      "_________________________________________________________________\n",
      "dense_46 (Dense)             (None, 10)                210       \n",
      "_________________________________________________________________\n",
      "dense_47 (Dense)             (None, 10)                110       \n",
      "_________________________________________________________________\n",
      "dense_48 (Dense)             (None, 5)                 55        \n",
      "_________________________________________________________________\n",
      "dropout_9 (Dropout)          (None, 5)                 0         \n",
      "_________________________________________________________________\n",
      "dense_49 (Dense)             (None, 3)                 18        \n",
      "=================================================================\n",
      "Total params: 893\n",
      "Trainable params: 853\n",
      "Non-trainable params: 40\n",
      "_________________________________________________________________\n",
      "\n",
      "\n",
      "------------------\n",
      "Accuracy: 0.943662\n",
      "----------------------------------------\n",
      "| Class:\t  N\t  S\t  P\t|\n",
      "| Precision:\t 0.954 \t 0.84 \t 1.0 \t|\n",
      "| Recall:\t 0.982 \t 0.75 \t 0.867 \t|\n",
      "| F1:\t\t 0.968 \t 0.792 \t 0.929 \t|\n",
      "----------------------------------------\n"
     ]
    }
   ],
   "source": [
    "y_pred = model.predict_classes(X_test)\n",
    "\n",
    "# accuracy: (tp + tn) / (p + n)\n",
    "accuracy = accuracy_score(y_test, y_pred)\n",
    "# precision tp / (tp + fp)\n",
    "precision = np.around(precision_score(y_test, y_pred, average=None), decimals=3)\n",
    "# recall: tp / (tp + fn)\n",
    "recall = np.around(recall_score(y_test, y_pred, average=None), decimals=3)\n",
    "# f1: 2 tp / (2 tp + fp + fn)\n",
    "f1 = np.around(f1_score(y_test, y_pred, average=None), decimals=3)\n",
    "\n",
    "model.summary()\n",
    "print(\"\\n\")\n",
    "print(\"-\"*18)\n",
    "print('Accuracy: %f' % accuracy)\n",
    "print(\"-\"*40)\n",
    "print(\"| Class:\\t  N\\t  S\\t  P\\t|\")\n",
    "print(\"| Precision:\\t\", precision[0], \"\\t\", precision[1], \"\\t\", precision[2], \"\\t|\")\n",
    "print(\"| Recall:\\t\", recall[0], \"\\t\", recall[1], \"\\t\", recall[2], \"\\t|\")\n",
    "print(\"| F1:\\t\\t\", f1[0], \"\\t\", f1[1], \"\\t\", f1[2], \"\\t|\")\n",
    "print(\"-\"*40)\n",
    "#del model"
   ]
  },
  {
   "cell_type": "code",
   "execution_count": null,
   "metadata": {},
   "outputs": [],
   "source": [
    "del model"
   ]
  },
  {
   "cell_type": "code",
   "execution_count": null,
   "metadata": {},
   "outputs": [],
   "source": [
    "# Load the TensorBoard notebook extension\n",
    "%reload_ext tensorboard\n",
    "%tensorboard --logdir logs/"
   ]
  },
  {
   "cell_type": "code",
   "execution_count": null,
   "metadata": {
    "scrolled": true
   },
   "outputs": [],
   "source": [
    "y_pred\n"
   ]
  },
  {
   "cell_type": "code",
   "execution_count": 12,
   "metadata": {},
   "outputs": [
    {
     "name": "stdout",
     "output_type": "stream",
     "text": [
      "Overall_best\n"
     ]
    }
   ],
   "source": [
    "model.save('models/' + input() + '.h5')"
   ]
  }
 ],
 "metadata": {
  "kernelspec": {
   "display_name": "Python 3",
   "language": "python",
   "name": "python3"
  },
  "language_info": {
   "codemirror_mode": {
    "name": "ipython",
    "version": 3
   },
   "file_extension": ".py",
   "mimetype": "text/x-python",
   "name": "python",
   "nbconvert_exporter": "python",
   "pygments_lexer": "ipython3",
   "version": "3.7.4"
  }
 },
 "nbformat": 4,
 "nbformat_minor": 2
}
