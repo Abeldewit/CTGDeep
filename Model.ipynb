{
 "cells": [
  {
   "cell_type": "code",
   "execution_count": 1,
   "metadata": {},
   "outputs": [
    {
     "name": "stderr",
     "output_type": "stream",
     "text": [
      "/Users/abel/anaconda3/lib/python3.7/site-packages/tensorflow/python/framework/dtypes.py:516: FutureWarning: Passing (type, 1) or '1type' as a synonym of type is deprecated; in a future version of numpy, it will be understood as (type, (1,)) / '(1,)type'.\n",
      "  _np_qint8 = np.dtype([(\"qint8\", np.int8, 1)])\n",
      "/Users/abel/anaconda3/lib/python3.7/site-packages/tensorflow/python/framework/dtypes.py:517: FutureWarning: Passing (type, 1) or '1type' as a synonym of type is deprecated; in a future version of numpy, it will be understood as (type, (1,)) / '(1,)type'.\n",
      "  _np_quint8 = np.dtype([(\"quint8\", np.uint8, 1)])\n",
      "/Users/abel/anaconda3/lib/python3.7/site-packages/tensorflow/python/framework/dtypes.py:518: FutureWarning: Passing (type, 1) or '1type' as a synonym of type is deprecated; in a future version of numpy, it will be understood as (type, (1,)) / '(1,)type'.\n",
      "  _np_qint16 = np.dtype([(\"qint16\", np.int16, 1)])\n",
      "/Users/abel/anaconda3/lib/python3.7/site-packages/tensorflow/python/framework/dtypes.py:519: FutureWarning: Passing (type, 1) or '1type' as a synonym of type is deprecated; in a future version of numpy, it will be understood as (type, (1,)) / '(1,)type'.\n",
      "  _np_quint16 = np.dtype([(\"quint16\", np.uint16, 1)])\n",
      "/Users/abel/anaconda3/lib/python3.7/site-packages/tensorflow/python/framework/dtypes.py:520: FutureWarning: Passing (type, 1) or '1type' as a synonym of type is deprecated; in a future version of numpy, it will be understood as (type, (1,)) / '(1,)type'.\n",
      "  _np_qint32 = np.dtype([(\"qint32\", np.int32, 1)])\n",
      "/Users/abel/anaconda3/lib/python3.7/site-packages/tensorflow/python/framework/dtypes.py:525: FutureWarning: Passing (type, 1) or '1type' as a synonym of type is deprecated; in a future version of numpy, it will be understood as (type, (1,)) / '(1,)type'.\n",
      "  np_resource = np.dtype([(\"resource\", np.ubyte, 1)])\n",
      "/Users/abel/anaconda3/lib/python3.7/site-packages/tensorboard/compat/tensorflow_stub/dtypes.py:541: FutureWarning: Passing (type, 1) or '1type' as a synonym of type is deprecated; in a future version of numpy, it will be understood as (type, (1,)) / '(1,)type'.\n",
      "  _np_qint8 = np.dtype([(\"qint8\", np.int8, 1)])\n",
      "/Users/abel/anaconda3/lib/python3.7/site-packages/tensorboard/compat/tensorflow_stub/dtypes.py:542: FutureWarning: Passing (type, 1) or '1type' as a synonym of type is deprecated; in a future version of numpy, it will be understood as (type, (1,)) / '(1,)type'.\n",
      "  _np_quint8 = np.dtype([(\"quint8\", np.uint8, 1)])\n",
      "/Users/abel/anaconda3/lib/python3.7/site-packages/tensorboard/compat/tensorflow_stub/dtypes.py:543: FutureWarning: Passing (type, 1) or '1type' as a synonym of type is deprecated; in a future version of numpy, it will be understood as (type, (1,)) / '(1,)type'.\n",
      "  _np_qint16 = np.dtype([(\"qint16\", np.int16, 1)])\n",
      "/Users/abel/anaconda3/lib/python3.7/site-packages/tensorboard/compat/tensorflow_stub/dtypes.py:544: FutureWarning: Passing (type, 1) or '1type' as a synonym of type is deprecated; in a future version of numpy, it will be understood as (type, (1,)) / '(1,)type'.\n",
      "  _np_quint16 = np.dtype([(\"quint16\", np.uint16, 1)])\n",
      "/Users/abel/anaconda3/lib/python3.7/site-packages/tensorboard/compat/tensorflow_stub/dtypes.py:545: FutureWarning: Passing (type, 1) or '1type' as a synonym of type is deprecated; in a future version of numpy, it will be understood as (type, (1,)) / '(1,)type'.\n",
      "  _np_qint32 = np.dtype([(\"qint32\", np.int32, 1)])\n",
      "/Users/abel/anaconda3/lib/python3.7/site-packages/tensorboard/compat/tensorflow_stub/dtypes.py:550: FutureWarning: Passing (type, 1) or '1type' as a synonym of type is deprecated; in a future version of numpy, it will be understood as (type, (1,)) / '(1,)type'.\n",
      "  np_resource = np.dtype([(\"resource\", np.ubyte, 1)])\n"
     ]
    }
   ],
   "source": [
    "# Imports\n",
    "from sklearn.metrics import accuracy_score, precision_score, recall_score, f1_score\n",
    "from sklearn.model_selection import train_test_split\n",
    "from sklearn.preprocessing import MinMaxScaler\n",
    "from tensorflow.keras.callbacks import EarlyStopping, TensorBoard\n",
    "from tensorflow import keras\n",
    "import tensorflow as tf\n",
    "from scipy import stats\n",
    "import pandas as pd\n",
    "import datetime, os\n",
    "import numpy as np"
   ]
  },
  {
   "cell_type": "code",
   "execution_count": 2,
   "metadata": {},
   "outputs": [
    {
     "name": "stdout",
     "output_type": "stream",
     "text": [
      "File name: \n"
     ]
    },
    {
     "data": {
      "text/html": [
       "<div>\n",
       "<style scoped>\n",
       "    .dataframe tbody tr th:only-of-type {\n",
       "        vertical-align: middle;\n",
       "    }\n",
       "\n",
       "    .dataframe tbody tr th {\n",
       "        vertical-align: top;\n",
       "    }\n",
       "\n",
       "    .dataframe thead th {\n",
       "        text-align: right;\n",
       "    }\n",
       "</style>\n",
       "<table border=\"1\" class=\"dataframe\">\n",
       "  <thead>\n",
       "    <tr style=\"text-align: right;\">\n",
       "      <th></th>\n",
       "      <th>AC.1</th>\n",
       "      <th>FM.1</th>\n",
       "      <th>UC.1</th>\n",
       "      <th>DL.1</th>\n",
       "      <th>DS.1</th>\n",
       "      <th>DP.1</th>\n",
       "      <th>ASTV</th>\n",
       "      <th>MSTV</th>\n",
       "      <th>ALTV</th>\n",
       "      <th>MLTV</th>\n",
       "      <th>...</th>\n",
       "      <th>Min</th>\n",
       "      <th>Max</th>\n",
       "      <th>Nmax</th>\n",
       "      <th>Nzeros</th>\n",
       "      <th>Mode</th>\n",
       "      <th>Mean</th>\n",
       "      <th>Median</th>\n",
       "      <th>Variance</th>\n",
       "      <th>Tendency</th>\n",
       "      <th>NSP</th>\n",
       "    </tr>\n",
       "  </thead>\n",
       "  <tbody>\n",
       "    <tr>\n",
       "      <td>0</td>\n",
       "      <td>0.000000</td>\n",
       "      <td>0.0</td>\n",
       "      <td>0.000000</td>\n",
       "      <td>0.0</td>\n",
       "      <td>0.0</td>\n",
       "      <td>0.0</td>\n",
       "      <td>0.813333</td>\n",
       "      <td>0.044118</td>\n",
       "      <td>0.472527</td>\n",
       "      <td>0.047337</td>\n",
       "      <td>...</td>\n",
       "      <td>0.110092</td>\n",
       "      <td>0.034483</td>\n",
       "      <td>0.111111</td>\n",
       "      <td>0.0</td>\n",
       "      <td>0.472441</td>\n",
       "      <td>0.587156</td>\n",
       "      <td>0.403670</td>\n",
       "      <td>0.271375</td>\n",
       "      <td>1.0</td>\n",
       "      <td>2</td>\n",
       "    </tr>\n",
       "    <tr>\n",
       "      <td>1</td>\n",
       "      <td>0.315789</td>\n",
       "      <td>0.0</td>\n",
       "      <td>0.400000</td>\n",
       "      <td>0.2</td>\n",
       "      <td>0.0</td>\n",
       "      <td>0.0</td>\n",
       "      <td>0.066667</td>\n",
       "      <td>0.279412</td>\n",
       "      <td>0.000000</td>\n",
       "      <td>0.205128</td>\n",
       "      <td>...</td>\n",
       "      <td>0.165138</td>\n",
       "      <td>0.655172</td>\n",
       "      <td>0.333333</td>\n",
       "      <td>0.1</td>\n",
       "      <td>0.637795</td>\n",
       "      <td>0.577982</td>\n",
       "      <td>0.577982</td>\n",
       "      <td>0.044610</td>\n",
       "      <td>0.5</td>\n",
       "      <td>1</td>\n",
       "    </tr>\n",
       "    <tr>\n",
       "      <td>2</td>\n",
       "      <td>0.157895</td>\n",
       "      <td>0.0</td>\n",
       "      <td>0.533333</td>\n",
       "      <td>0.2</td>\n",
       "      <td>0.0</td>\n",
       "      <td>0.0</td>\n",
       "      <td>0.053333</td>\n",
       "      <td>0.279412</td>\n",
       "      <td>0.000000</td>\n",
       "      <td>0.264300</td>\n",
       "      <td>...</td>\n",
       "      <td>0.165138</td>\n",
       "      <td>0.655172</td>\n",
       "      <td>0.277778</td>\n",
       "      <td>0.1</td>\n",
       "      <td>0.637795</td>\n",
       "      <td>0.568807</td>\n",
       "      <td>0.559633</td>\n",
       "      <td>0.048327</td>\n",
       "      <td>0.5</td>\n",
       "      <td>1</td>\n",
       "    </tr>\n",
       "    <tr>\n",
       "      <td>3</td>\n",
       "      <td>0.157895</td>\n",
       "      <td>0.0</td>\n",
       "      <td>0.533333</td>\n",
       "      <td>0.2</td>\n",
       "      <td>0.0</td>\n",
       "      <td>0.0</td>\n",
       "      <td>0.053333</td>\n",
       "      <td>0.323529</td>\n",
       "      <td>0.000000</td>\n",
       "      <td>0.453649</td>\n",
       "      <td>...</td>\n",
       "      <td>0.027523</td>\n",
       "      <td>0.413793</td>\n",
       "      <td>0.611111</td>\n",
       "      <td>0.0</td>\n",
       "      <td>0.606299</td>\n",
       "      <td>0.559633</td>\n",
       "      <td>0.550459</td>\n",
       "      <td>0.048327</td>\n",
       "      <td>1.0</td>\n",
       "      <td>1</td>\n",
       "    </tr>\n",
       "    <tr>\n",
       "      <td>4</td>\n",
       "      <td>0.368421</td>\n",
       "      <td>0.0</td>\n",
       "      <td>0.533333</td>\n",
       "      <td>0.0</td>\n",
       "      <td>0.0</td>\n",
       "      <td>0.0</td>\n",
       "      <td>0.053333</td>\n",
       "      <td>0.323529</td>\n",
       "      <td>0.000000</td>\n",
       "      <td>0.392505</td>\n",
       "      <td>...</td>\n",
       "      <td>0.027523</td>\n",
       "      <td>0.413793</td>\n",
       "      <td>0.500000</td>\n",
       "      <td>0.0</td>\n",
       "      <td>0.606299</td>\n",
       "      <td>0.577982</td>\n",
       "      <td>0.559633</td>\n",
       "      <td>0.040892</td>\n",
       "      <td>1.0</td>\n",
       "      <td>1</td>\n",
       "    </tr>\n",
       "  </tbody>\n",
       "</table>\n",
       "<p>5 rows × 21 columns</p>\n",
       "</div>"
      ],
      "text/plain": [
       "       AC.1  FM.1      UC.1  DL.1  DS.1  DP.1      ASTV      MSTV      ALTV  \\\n",
       "0  0.000000   0.0  0.000000   0.0   0.0   0.0  0.813333  0.044118  0.472527   \n",
       "1  0.315789   0.0  0.400000   0.2   0.0   0.0  0.066667  0.279412  0.000000   \n",
       "2  0.157895   0.0  0.533333   0.2   0.0   0.0  0.053333  0.279412  0.000000   \n",
       "3  0.157895   0.0  0.533333   0.2   0.0   0.0  0.053333  0.323529  0.000000   \n",
       "4  0.368421   0.0  0.533333   0.0   0.0   0.0  0.053333  0.323529  0.000000   \n",
       "\n",
       "       MLTV  ...       Min       Max      Nmax  Nzeros      Mode      Mean  \\\n",
       "0  0.047337  ...  0.110092  0.034483  0.111111     0.0  0.472441  0.587156   \n",
       "1  0.205128  ...  0.165138  0.655172  0.333333     0.1  0.637795  0.577982   \n",
       "2  0.264300  ...  0.165138  0.655172  0.277778     0.1  0.637795  0.568807   \n",
       "3  0.453649  ...  0.027523  0.413793  0.611111     0.0  0.606299  0.559633   \n",
       "4  0.392505  ...  0.027523  0.413793  0.500000     0.0  0.606299  0.577982   \n",
       "\n",
       "     Median  Variance  Tendency  NSP  \n",
       "0  0.403670  0.271375       1.0    2  \n",
       "1  0.577982  0.044610       0.5    1  \n",
       "2  0.559633  0.048327       0.5    1  \n",
       "3  0.550459  0.048327       1.0    1  \n",
       "4  0.559633  0.040892       1.0    1  \n",
       "\n",
       "[5 rows x 21 columns]"
      ]
     },
     "execution_count": 2,
     "metadata": {},
     "output_type": "execute_result"
    }
   ],
   "source": [
    "# Import the preprocessed file we made\n",
    "print(\"File name: \") \n",
    "#file_name = input()\n",
    "\n",
    "dataFrame = pd.read_csv(r'data/p/NSP_23_attributes.csv')\n",
    "dataFrame.head()"
   ]
  },
  {
   "cell_type": "code",
   "execution_count": 3,
   "metadata": {},
   "outputs": [
    {
     "name": "stdout",
     "output_type": "stream",
     "text": [
      "We have 20 features\n"
     ]
    }
   ],
   "source": [
    "num_features = dataFrame.shape[1] - 1\n",
    "print(\"We have \" + str(num_features) + \" features\") "
   ]
  },
  {
   "cell_type": "code",
   "execution_count": 4,
   "metadata": {},
   "outputs": [
    {
     "data": {
      "text/plain": [
       "array([[0.        , 0.        , 0.        , ..., 0.40366972, 0.27137546,\n",
       "        1.        ],\n",
       "       [0.31578947, 0.        , 0.4       , ..., 0.57798165, 0.04460967,\n",
       "        0.5       ],\n",
       "       [0.15789474, 0.        , 0.53333333, ..., 0.55963303, 0.04832714,\n",
       "        0.5       ],\n",
       "       ...,\n",
       "       [0.05263158, 0.        , 0.46666667, ..., 0.68807339, 0.01486989,\n",
       "        1.        ],\n",
       "       [0.05263158, 0.        , 0.4       , ..., 0.67889908, 0.01486989,\n",
       "        1.        ],\n",
       "       [0.10526316, 0.004158  , 0.53333333, ..., 0.62385321, 0.00371747,\n",
       "        0.5       ]])"
      ]
     },
     "execution_count": 4,
     "metadata": {},
     "output_type": "execute_result"
    }
   ],
   "source": [
    "y = dataFrame.pop('NSP') - 1\n",
    "X = np.array(dataFrame)\n",
    "X"
   ]
  },
  {
   "cell_type": "markdown",
   "metadata": {},
   "source": [
    "This model will be used for the NSP classification"
   ]
  },
  {
   "cell_type": "code",
   "execution_count": 5,
   "metadata": {},
   "outputs": [
    {
     "name": "stdout",
     "output_type": "stream",
     "text": [
      "WARNING:tensorflow:From /Users/abel/anaconda3/lib/python3.7/site-packages/tensorflow/python/ops/init_ops.py:1251: calling VarianceScaling.__init__ (from tensorflow.python.ops.init_ops) with dtype is deprecated and will be removed in a future version.\n",
      "Instructions for updating:\n",
      "Call initializer instance with the dtype argument instead of passing it to the constructor\n"
     ]
    },
    {
     "name": "stderr",
     "output_type": "stream",
     "text": [
      "Using TensorFlow backend.\n"
     ]
    }
   ],
   "source": [
    "X_train, X_test, y_train, y_test = train_test_split(X, y, test_size=0.1, shuffle=True)\n",
    "X_train, X_val, y_train, y_val = train_test_split(X_train, y_train, test_size=0.2, shuffle=True)\n",
    "\n",
    "# print(X.shape)\n",
    "# print(X_train.shape)\n",
    "# print(X_val.shape)\n",
    "# print(X_test.shape)\n",
    "\n",
    "# binary encode\n",
    "y_train = keras.utils.to_categorical(y_train)\n",
    "y_val = keras.utils.to_categorical(y_val)\n",
    "# print(y_train.shape)\n",
    "# y_train\n",
    "\n",
    "\n",
    "from keras.regularizers import l1,l2\n",
    "\n",
    "model = keras.Sequential([\n",
    "    keras.layers.Dense(20, input_dim=num_features, activation='relu'),\n",
    "    keras.layers.BatchNormalization(),\n",
    "    keras.layers.Dense(10, \n",
    "                       activation='relu', \n",
    "                       kernel_regularizer=l2(0.01)),\n",
    "    keras.layers.Dense(10, activation='relu', activity_regularizer=l1(0.01)),\n",
    "    keras.layers.Dense(5, activation='relu'),\n",
    "    keras.layers.Dropout(0.2),\n",
    "    keras.layers.Dense(3, activation='softmax')\n",
    "])\n",
    "\n",
    "\n",
    "opt = keras.optimizers.RMSprop(learning_rate=0.0005, rho=0.9)\n",
    "model.compile(loss='categorical_crossentropy', optimizer=opt, metrics=['accuracy'])\n",
    "\n",
    "\n",
    "# Tensorboard stuff\n",
    "log_dir = os.path.join(\n",
    "    \"logs\",\n",
    "    datetime.datetime.now().strftime(\"%Y%m%d-%H%M%S\")\n",
    "    )\n",
    "\n",
    "# Callbacks\n",
    "tensorboard_callback = TensorBoard(log_dir, histogram_freq=1)\n",
    "earlystop_callback = EarlyStopping( monitor='val_loss', \n",
    "                                    min_delta=0.0001,\n",
    "                                    mode='min',\n",
    "                                    patience=5\n",
    "                                  )\n",
    "\n",
    "# Clear any logs from previous runs\n",
    "#!rm -rf ./logs/ \n",
    "\n",
    "# Train the model\n",
    "history = model.fit(x=X_train,\n",
    "          y=y_train,\n",
    "          epochs=1000,\n",
    "          batch_size=50,\n",
    "          validation_data=(X_val, y_val),\n",
    "          callbacks=[earlystop_callback],\n",
    "          verbose=0)"
   ]
  },
  {
   "cell_type": "code",
   "execution_count": 6,
   "metadata": {},
   "outputs": [
    {
     "name": "stdout",
     "output_type": "stream",
     "text": [
      "Model: \"sequential\"\n",
      "_________________________________________________________________\n",
      "Layer (type)                 Output Shape              Param #   \n",
      "=================================================================\n",
      "dense (Dense)                (None, 20)                420       \n",
      "_________________________________________________________________\n",
      "batch_normalization (BatchNo (None, 20)                80        \n",
      "_________________________________________________________________\n",
      "dense_1 (Dense)              (None, 10)                210       \n",
      "_________________________________________________________________\n",
      "dense_2 (Dense)              (None, 10)                110       \n",
      "_________________________________________________________________\n",
      "dense_3 (Dense)              (None, 5)                 55        \n",
      "_________________________________________________________________\n",
      "dropout (Dropout)            (None, 5)                 0         \n",
      "_________________________________________________________________\n",
      "dense_4 (Dense)              (None, 3)                 18        \n",
      "=================================================================\n",
      "Total params: 893\n",
      "Trainable params: 853\n",
      "Non-trainable params: 40\n",
      "_________________________________________________________________\n",
      "\n",
      "\n",
      "------------------\n",
      "Accuracy: 0.906103\n",
      "----------------------------------------\n",
      "| Class:\t  N\t  S\t  P\t|\n",
      "| Precision:\t 0.931 \t 0.818 \t 0.75 \t|\n",
      "| Recall:\t 0.982 \t 0.562 \t 0.8 \t|\n",
      "| F1:\t\t 0.956 \t 0.667 \t 0.774 \t|\n",
      "----------------------------------------\n"
     ]
    }
   ],
   "source": [
    "y_pred = model.predict_classes(X_test)\n",
    "\n",
    "# accuracy: (tp + tn) / (p + n)\n",
    "accuracy = accuracy_score(y_test, y_pred)\n",
    "# precision tp / (tp + fp)\n",
    "precision = np.around(precision_score(y_test, y_pred, average=None), decimals=3)\n",
    "# recall: tp / (tp + fn)\n",
    "recall = np.around(recall_score(y_test, y_pred, average=None), decimals=3)\n",
    "# f1: 2 tp / (2 tp + fp + fn)\n",
    "f1 = np.around(f1_score(y_test, y_pred, average=None), decimals=3)\n",
    "\n",
    "model.summary()\n",
    "print(\"\\n\")\n",
    "print(\"-\"*18)\n",
    "print('Accuracy: %f' % accuracy)\n",
    "print(\"-\"*40)\n",
    "print(\"| Class:\\t  N\\t  S\\t  P\\t|\")\n",
    "print(\"| Precision:\\t\", precision[0], \"\\t\", precision[1], \"\\t\", precision[2], \"\\t|\")\n",
    "print(\"| Recall:\\t\", recall[0], \"\\t\", recall[1], \"\\t\", recall[2], \"\\t|\")\n",
    "print(\"| F1:\\t\\t\", f1[0], \"\\t\", f1[1], \"\\t\", f1[2], \"\\t|\")\n",
    "print(\"-\"*40)\n",
    "#del model"
   ]
  },
  {
   "cell_type": "code",
   "execution_count": null,
   "metadata": {},
   "outputs": [],
   "source": []
  },
  {
   "cell_type": "code",
   "execution_count": 7,
   "metadata": {},
   "outputs": [],
   "source": [
    "# Load the TensorBoard notebook extension\n",
    "#%reload_ext tensorboard\n",
    "#%tensorboard --logdir logs/"
   ]
  },
  {
   "cell_type": "code",
   "execution_count": 8,
   "metadata": {
    "scrolled": true
   },
   "outputs": [],
   "source": [
    "#y_pred\n"
   ]
  },
  {
   "cell_type": "code",
   "execution_count": 9,
   "metadata": {},
   "outputs": [],
   "source": [
    "#model.save('models/' + input() + '.h5')"
   ]
  },
  {
   "cell_type": "markdown",
   "metadata": {},
   "source": [
    "# Shap/LIME analysis"
   ]
  },
  {
   "cell_type": "code",
   "execution_count": 10,
   "metadata": {},
   "outputs": [],
   "source": [
    "import lime #LIME package\n",
    "import lime.lime_tabular #the type of LIIME analysis we’ll do\n",
    "import shap #SHAP package\n",
    "import matplotlib.pyplot as plt #for custom graphs at the end\n"
   ]
  },
  {
   "cell_type": "code",
   "execution_count": 11,
   "metadata": {},
   "outputs": [
    {
     "name": "stdout",
     "output_type": "stream",
     "text": [
      "WARNING:tensorflow:From /Users/abel/anaconda3/lib/python3.7/site-packages/shap/explainers/deep/deep_tf.py:124: The name tf.keras.backend.get_session is deprecated. Please use tf.compat.v1.keras.backend.get_session instead.\n",
      "\n"
     ]
    }
   ],
   "source": [
    "modelExplainer = shap.DeepExplainer(model, X_train)"
   ]
  },
  {
   "cell_type": "code",
   "execution_count": 28,
   "metadata": {},
   "outputs": [],
   "source": [
    "raw_shap_explanations = modelExplainer.shap_values(X_train)"
   ]
  },
  {
   "cell_type": "code",
   "execution_count": 29,
   "metadata": {},
   "outputs": [
    {
     "name": "stdout",
     "output_type": "stream",
     "text": [
      "3\n",
      "(1530, 20)\n",
      "(20,)\n"
     ]
    }
   ],
   "source": [
    "print(len(raw_shap_explanations))\n",
    "print(raw_shap_explanations[0].shape)\n",
    "print(raw_shap_explanations[0][0].shape)"
   ]
  },
  {
   "cell_type": "code",
   "execution_count": 25,
   "metadata": {},
   "outputs": [
    {
     "name": "stdout",
     "output_type": "stream",
     "text": [
      "[-1.60998545e-02  3.68595798e-03  5.64688680e-02 -8.67365811e-03\n",
      " -6.22794690e-05  1.12734465e-02  4.92792495e-02  8.34624178e-03\n",
      "  1.41343934e-02 -1.73265370e-03  6.17800741e-04  9.14988775e-03\n",
      "  6.80352463e-03  5.78407978e-03 -1.96719255e-04  1.45359534e-02\n",
      "  1.73254331e-02  1.11370659e-02  2.10850224e-02  2.04619422e-03]\n"
     ]
    }
   ],
   "source": [
    "print(raw_shap_explanations[0][0])"
   ]
  },
  {
   "cell_type": "code",
   "execution_count": 27,
   "metadata": {},
   "outputs": [
    {
     "name": "stdout",
     "output_type": "stream",
     "text": [
      "0.2049079539586417\n"
     ]
    }
   ],
   "source": [
    "\n",
    "number = np.sum(raw_shap_explanations[0][0])\n",
    "print(number)"
   ]
  },
  {
   "cell_type": "code",
   "execution_count": 37,
   "metadata": {},
   "outputs": [
    {
     "data": {
      "image/png": "[encoded data removed]",
      "text/plain": [
       "<Figure size 576x684 with 1 Axes>"
      ]
     },
     "metadata": {
      "needs_background": "light"
     },
     "output_type": "display_data"
    }
   ],
   "source": [
    "X_train = pd.DataFrame(X_train, columns=dataFrame.columns)\n",
    "\n",
    "shap.summary_plot(raw_shap_explanations, X_train, plot_type=\"bar\")"
   ]
  },
  {
   "cell_type": "code",
   "execution_count": 38,
   "metadata": {},
   "outputs": [
    {
     "name": "stdout",
     "output_type": "stream",
     "text": [
      "Normal\n"
     ]
    },
    {
     "data": {
      "image/png": "[encoded data removed]",
      "text/plain": [
       "<Figure size 576x684 with 1 Axes>"
      ]
     },
     "metadata": {
      "needs_background": "light"
     },
     "output_type": "display_data"
    }
   ],
   "source": [
    "print(\"Normal\")\n",
    "shap.summary_plot(raw_shap_explanations[0], X_train, plot_type=\"bar\")"
   ]
  },
  {
   "cell_type": "code",
   "execution_count": 39,
   "metadata": {},
   "outputs": [
    {
     "name": "stdout",
     "output_type": "stream",
     "text": [
      "Suspect\n"
     ]
    },
    {
     "data": {
      "image/png": "[encoded data removed]",
      "text/plain": [
       "<Figure size 576x684 with 1 Axes>"
      ]
     },
     "metadata": {
      "needs_background": "light"
     },
     "output_type": "display_data"
    }
   ],
   "source": [
    "print(\"Suspect\")\n",
    "shap.summary_plot(raw_shap_explanations[2], X_train, plot_type=\"bar\")"
   ]
  },
  {
   "cell_type": "code",
   "execution_count": 40,
   "metadata": {},
   "outputs": [
    {
     "name": "stdout",
     "output_type": "stream",
     "text": [
      "Pathologic\n"
     ]
    },
    {
     "data": {
      "image/png": "[encoded data removed]",
      "text/plain": [
       "<Figure size 576x684 with 1 Axes>"
      ]
     },
     "metadata": {
      "needs_background": "light"
     },
     "output_type": "display_data"
    }
   ],
   "source": [
    "print(\"Pathologic\")\n",
    "shap.summary_plot(raw_shap_explanations[2], X_train, plot_type=\"bar\")"
   ]
  },
  {
   "cell_type": "code",
   "execution_count": null,
   "metadata": {},
   "outputs": [],
   "source": []
  }
 ],
 "metadata": {
  "kernelspec": {
   "display_name": "Python 3",
   "language": "python",
   "name": "python3"
  },
  "language_info": {
   "codemirror_mode": {
    "name": "ipython",
    "version": 3
   },
   "file_extension": ".py",
   "mimetype": "text/x-python",
   "name": "python",
   "nbconvert_exporter": "python",
   "pygments_lexer": "ipython3",
   "version": "3.7.3"
  }
 },
 "nbformat": 4,
 "nbformat_minor": 2
}
